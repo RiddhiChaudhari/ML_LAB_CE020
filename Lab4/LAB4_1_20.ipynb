{
  "nbformat": 4,
  "nbformat_minor": 0,
  "metadata": {
    "colab": {
      "name": "LAB4_1_20.ipynb",
      "provenance": []
    },
    "kernelspec": {
      "name": "python3",
      "display_name": "Python 3"
    },
    "language_info": {
      "name": "python"
    }
  },
  "cells": [
    {
      "cell_type": "code",
      "execution_count": null,
      "metadata": {
        "id": "CMdOIT-nZK_F"
      },
      "outputs": [],
      "source": [
        "import numpy as np\n",
        "import torch"
      ]
    },
    {
      "cell_type": "code",
      "source": [
        "# Input (temp, rainfall, humidity)\n",
        "inputs = np.array([[73, 67, 43],\n",
        "[91, 88, 64],\n",
        "[87, 134, 58],\n",
        "[102, 43, 37],\n",
        "[69, 96, 70]], dtype='float32')"
      ],
      "metadata": {
        "id": "Y91tvu1WZqIQ"
      },
      "execution_count": null,
      "outputs": []
    },
    {
      "cell_type": "code",
      "source": [
        "# Target (apples)\n",
        "targets = np.array([[56],\n",
        "[81],\n",
        "[119],\n",
        "[22],\n",
        "[103]], dtype='float32')"
      ],
      "metadata": {
        "id": "OccWDPDdaoST"
      },
      "execution_count": null,
      "outputs": []
    },
    {
      "cell_type": "code",
      "source": [
        "inputs=torch.from_numpy(inputs)\n",
        "targets=torch.from_numpy(targets)"
      ],
      "metadata": {
        "id": "8MaF4cRoVT3F"
      },
      "execution_count": null,
      "outputs": []
    },
    {
      "cell_type": "code",
      "source": [
        "weight=torch.randn(2,3,requires_grad=True)\n",
        "bias=torch.randn(2,requires_grad=True)"
      ],
      "metadata": {
        "id": "548ik0-OVf9i"
      },
      "execution_count": null,
      "outputs": []
    },
    {
      "cell_type": "code",
      "source": [
        "inputs @ weight.t() + bias"
      ],
      "metadata": {
        "colab": {
          "base_uri": "https://localhost:8080/"
        },
        "id": "vjsUkKnaVxjP",
        "outputId": "c80c83d6-c711-4e12-bd1f-d07182b765cd"
      },
      "execution_count": null,
      "outputs": [
        {
          "output_type": "execute_result",
          "data": {
            "text/plain": [
              "tensor([[ -29.6389,  -97.8156],\n",
              "        [ -52.0529, -133.6080],\n",
              "        [ -79.8022, -217.2697],\n",
              "        [  18.8939,  -37.4813],\n",
              "        [ -83.6262, -161.3058]], grad_fn=<AddBackward0>)"
            ]
          },
          "metadata": {},
          "execution_count": 51
        }
      ]
    },
    {
      "cell_type": "code",
      "source": [
        "def model(inputs):\n",
        "  return inputs @ weight.t()+bias"
      ],
      "metadata": {
        "id": "oxROPV6RWNhW"
      },
      "execution_count": null,
      "outputs": []
    },
    {
      "cell_type": "code",
      "source": [
        "prediction=model(inputs)\n",
        "print(prediction)"
      ],
      "metadata": {
        "colab": {
          "base_uri": "https://localhost:8080/"
        },
        "id": "PcbxXyr1WXhS",
        "outputId": "c9672bd7-12e6-448f-b8da-bd41b51655f8"
      },
      "execution_count": null,
      "outputs": [
        {
          "output_type": "stream",
          "name": "stdout",
          "text": [
            "tensor([[ -29.6389,  -97.8156],\n",
            "        [ -52.0529, -133.6080],\n",
            "        [ -79.8022, -217.2697],\n",
            "        [  18.8939,  -37.4813],\n",
            "        [ -83.6262, -161.3058]], grad_fn=<AddBackward0>)\n"
          ]
        }
      ]
    },
    {
      "cell_type": "markdown",
      "source": [
        "\n",
        "# Loss Function\n",
        "\n"
      ],
      "metadata": {
        "id": "57mP496JWYJk"
      }
    },
    {
      "cell_type": "code",
      "source": [
        "diff0 = prediction - targets\n",
        "torch.sum(diff0 * diff0) / diff0.numel()"
      ],
      "metadata": {
        "colab": {
          "base_uri": "https://localhost:8080/"
        },
        "id": "6lHKT-DVa6lx",
        "outputId": "6573f0ea-eed2-4c34-f05c-66a868fae648"
      },
      "execution_count": null,
      "outputs": [
        {
          "output_type": "execute_result",
          "data": {
            "text/plain": [
              "tensor(35558.7109, grad_fn=<DivBackward0>)"
            ]
          },
          "metadata": {},
          "execution_count": 54
        }
      ]
    },
    {
      "cell_type": "code",
      "source": [
        "def mse(t1, t2):\n",
        "    diff = t1 - t2\n",
        "    return torch.sum(diff * diff) / diff.numel()"
      ],
      "metadata": {
        "id": "_hrQhD4yV4nZ"
      },
      "execution_count": null,
      "outputs": []
    },
    {
      "cell_type": "code",
      "source": [
        "loss = mse(prediction, targets)\n",
        "print(loss)"
      ],
      "metadata": {
        "colab": {
          "base_uri": "https://localhost:8080/"
        },
        "id": "OD_lngtZb8zx",
        "outputId": "c62cc385-28a5-4fdb-8640-df7b3ce7e140"
      },
      "execution_count": null,
      "outputs": [
        {
          "output_type": "stream",
          "name": "stdout",
          "text": [
            "tensor(35558.7109, grad_fn=<DivBackward0>)\n"
          ]
        }
      ]
    },
    {
      "cell_type": "markdown",
      "source": [
        "#Compute gradients"
      ],
      "metadata": {
        "id": "HtrRRyB0ebxt"
      }
    },
    {
      "cell_type": "code",
      "source": [
        "loss.backward()\n",
        "print(weight.grad)\n",
        "print(bias.grad)"
      ],
      "metadata": {
        "colab": {
          "base_uri": "https://localhost:8080/"
        },
        "id": "DTyNCtDWe5wy",
        "outputId": "b9998b9c-96e3-49ca-9e5d-6f37f89b97a2"
      },
      "execution_count": null,
      "outputs": [
        {
          "output_type": "stream",
          "name": "stdout",
          "text": [
            "tensor([[ -9769.8555, -12427.1289,  -7381.4302],\n",
            "        [-16863.5020, -20436.4648, -12110.9668]])\n",
            "tensor([-121.4453, -205.6961])\n"
          ]
        }
      ]
    },
    {
      "cell_type": "markdown",
      "source": [
        "#Train moduel using gradient descent"
      ],
      "metadata": {
        "id": "r0WcAysLe5Ni"
      }
    },
    {
      "cell_type": "code",
      "source": [
        "with torch.no_grad():\n",
        "    weight -= weight.grad * 1e-5\n",
        "    bias -= bias.grad * 1e-5\n",
        "    weight.grad.zero_()\n",
        "    bias.grad.zero_()"
      ],
      "metadata": {
        "id": "0nGS1k-5oBP3"
      },
      "execution_count": null,
      "outputs": []
    },
    {
      "cell_type": "code",
      "source": [
        "prediction = model(inputs)\n",
        "loss = mse(prediction, targets)\n",
        "print(loss)"
      ],
      "metadata": {
        "id": "YZ6lfIB4lQ9H",
        "colab": {
          "base_uri": "https://localhost:8080/"
        },
        "outputId": "9df303c1-df69-4ce4-fb9c-29f6abfa52e4"
      },
      "execution_count": null,
      "outputs": [
        {
          "output_type": "stream",
          "name": "stdout",
          "text": [
            "tensor(25056.2930, grad_fn=<DivBackward0>)\n"
          ]
        }
      ]
    },
    {
      "cell_type": "code",
      "source": [
        "for i in range(100):\n",
        "    prediction = model(inputs)\n",
        "    loss = mse(prediction, targets)\n",
        "    loss.backward()\n",
        "    with torch.no_grad():\n",
        "        weight -= weight.grad * 1e-5\n",
        "        bias -= bias.grad * 1e-5\n",
        "        weight.grad.zero_()\n",
        "        bias.grad.zero_()"
      ],
      "metadata": {
        "id": "PD8J2KYxfHgX"
      },
      "execution_count": null,
      "outputs": []
    },
    {
      "cell_type": "code",
      "source": [
        "prediction = model(inputs)\n",
        "loss = mse(prediction, targets)\n",
        "print(loss)"
      ],
      "metadata": {
        "colab": {
          "base_uri": "https://localhost:8080/"
        },
        "id": "5dke5v7mfM4_",
        "outputId": "47119d99-bd95-44ce-86c8-ed86bda94a13"
      },
      "execution_count": null,
      "outputs": [
        {
          "output_type": "stream",
          "name": "stdout",
          "text": [
            "tensor(1017.0349, grad_fn=<DivBackward0>)\n"
          ]
        }
      ]
    },
    {
      "cell_type": "code",
      "source": [
        "prediction"
      ],
      "metadata": {
        "colab": {
          "base_uri": "https://localhost:8080/"
        },
        "id": "mnyUTjtYfReI",
        "outputId": "41a61450-f416-4514-c4dd-d4de6d7501b6"
      },
      "execution_count": null,
      "outputs": [
        {
          "output_type": "execute_result",
          "data": {
            "text/plain": [
              "tensor([[ 67.0450,  67.7932],\n",
              "        [ 80.2262,  89.1824],\n",
              "        [107.3168,  85.7444],\n",
              "        [ 76.8836,  82.1954],\n",
              "        [ 66.0626,  78.5209]], grad_fn=<AddBackward0>)"
            ]
          },
          "metadata": {},
          "execution_count": 62
        }
      ]
    },
    {
      "cell_type": "code",
      "source": [
        "targets"
      ],
      "metadata": {
        "id": "Nhg2xphDfU0F",
        "outputId": "561ef826-9ec5-4da9-cd87-e88bd8faa66f",
        "colab": {
          "base_uri": "https://localhost:8080/"
        }
      },
      "execution_count": null,
      "outputs": [
        {
          "output_type": "execute_result",
          "data": {
            "text/plain": [
              "tensor([[ 56.],\n",
              "        [ 81.],\n",
              "        [119.],\n",
              "        [ 22.],\n",
              "        [103.]])"
            ]
          },
          "metadata": {},
          "execution_count": 63
        }
      ]
    }
  ]
}