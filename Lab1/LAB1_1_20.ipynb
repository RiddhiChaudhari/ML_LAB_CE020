{
  "cells": [
    {
      "cell_type": "code",
      "execution_count": 72,
      "metadata": {
        "id": "NOdx1iVJc4l7",
        "colab": {
          "base_uri": "https://localhost:8080/"
        },
        "outputId": "e13b9b46-3d43-4624-ae2c-2d3116cc4fbd"
      },
      "outputs": [
        {
          "output_type": "stream",
          "name": "stdout",
          "text": [
            "[1, 2, 3, 4, 5]\n",
            "[6 7 8 9]\n"
          ]
        }
      ],
      "source": [
        "import numpy as np\n",
        "alist=[1,2,3,4,5]\n",
        "narray= np.array([6,7,8,9])\n",
        "print(alist)\n",
        "print(narray)"
      ]
    },
    {
      "cell_type": "code",
      "execution_count": 73,
      "metadata": {
        "colab": {
          "base_uri": "https://localhost:8080/"
        },
        "id": "AoQGpCAyc4mD",
        "outputId": "ac89ecec-3f66-454f-a7d5-d41f22735647"
      },
      "outputs": [
        {
          "output_type": "stream",
          "name": "stdout",
          "text": [
            "[[6 7 8 9]\n",
            " [6 7 8 9]\n",
            " [6 7 8 9]\n",
            " [6 7 8 9]]\n"
          ]
        }
      ],
      "source": [
        "npmatrix=np.array([narray,narray,narray,narray])\n",
        "print(npmatrix)"
      ]
    },
    {
      "cell_type": "code",
      "execution_count": 105,
      "metadata": {
        "colab": {
          "base_uri": "https://localhost:8080/"
        },
        "id": "-kH5WEBTc4mE",
        "outputId": "1ae4dc88-f57e-4fec-b00c-ee6859f5ec0e"
      },
      "outputs": [
        {
          "output_type": "stream",
          "name": "stdout",
          "text": [
            "Que-1 Create a Numpy array of size 4 x 5.\n",
            "Single array of five:\n",
            "[1 2 3 4 5]\n",
            "Array coverstion from 1 by 5 to 4 by 5\n",
            "[[1 2 3 4 5]\n",
            " [1 2 3 4 5]\n",
            " [1 2 3 4 5]\n",
            " [1 2 3 4 5]]\n"
          ]
        }
      ],
      "source": [
        "print(\"Que-1 Create a Numpy array of size 4 x 5.\")\n",
        "fourbyfive=np.array([1,2,3,4,5])\n",
        "fbyfmat=np.array([fourbyfive,fourbyfive,fourbyfive,fourbyfive])\n",
        "print(\"Single array of five:\")\n",
        "print(fourbyfive)\n",
        "print(\"Array coverstion from 1 by 5 to 4 by 5\")\n",
        "print(fbyfmat)"
      ]
    },
    {
      "cell_type": "code",
      "execution_count": 106,
      "metadata": {
        "colab": {
          "base_uri": "https://localhost:8080/"
        },
        "id": "hGrIoKDFc4mF",
        "outputId": "c7061738-10bc-4b32-cea8-28609d215c5c"
      },
      "outputs": [
        {
          "output_type": "stream",
          "name": "stdout",
          "text": [
            "Que-2 Randomly initialize the array.\n",
            "Random number genraation:\n",
            "Here we will creat empty array so it will give random value to the array\n",
            "[[3.0e-323 3.5e-323 4.0e-323 4.4e-323]]\n"
          ]
        }
      ],
      "source": [
        "print(\"Que-2 Randomly initialize the array.\")\n",
        "print(\"Random number genraation:\")\n",
        "print(\"Here we will creat empty array so it will give random value to the array\")\n",
        "rdmnumarr=np.empty((1,4))\n",
        "print(rdmnumarr)"
      ]
    },
    {
      "cell_type": "code",
      "execution_count": 76,
      "metadata": {
        "colab": {
          "base_uri": "https://localhost:8080/"
        },
        "id": "pM7RZn6ic4mG",
        "outputId": "0c9bb4de-7238-4525-c628-8757984c30ab"
      },
      "outputs": [
        {
          "output_type": "stream",
          "name": "stdout",
          "text": [
            "Que-3\n",
            "Created array:\n",
            "[[1 0]\n",
            " [1 1]]\n",
            "Determinant of the created array:\n",
            "1\n",
            "Transpose of the created array:\n",
            "[[1 1]\n",
            " [0 1]]\n"
          ]
        }
      ],
      "source": [
        "print(\"Que-3 Get the Transpose of the Matrix that you created. Create a square matrix and find its determinant.\")\n",
        "print(\"Created array:\")\n",
        "array=np.array([[1,0],[1,1]])\n",
        "print(array)\n",
        "print(\"Determinant of the created array:\")\n",
        "det= np.linalg.det(array)\n",
        "print(int(det))\n",
        "print(\"Transpose of the created array:\")\n",
        "print(array.T)"
      ]
    },
    {
      "cell_type": "code",
      "execution_count": 77,
      "metadata": {
        "colab": {
          "base_uri": "https://localhost:8080/"
        },
        "id": "90XwIzlIc4mI",
        "outputId": "a778e045-5267-4497-a9d9-ff91751517de"
      },
      "outputs": [
        {
          "output_type": "stream",
          "name": "stdout",
          "text": [
            "Que-4\n",
            "5 by 4 matrix with Randomly entered number:\n",
            "[[13. 26.  5. 16.]\n",
            " [11. 30.  8.  7.]\n",
            " [30. 19.  3. 12.]\n",
            " [ 4. 28.  4.  6.]\n",
            " [ 7. 13.  4.  4.]]\n"
          ]
        }
      ],
      "source": [
        "print(\"Que-4 Create another matrix of size 5 x 4 and randomly initialize it.\")\n",
        "import random\n",
        "print(\"5 by 4 matrix with Randomly entered number:\")\n",
        "rndmat=np.empty((5,4))\n",
        "for i in range(0,5):\n",
        "    for j in range(0,4):\n",
        "        n=random.randint(1,30)\n",
        "        rndmat[i][j]=n;\n",
        "print(rndmat)"
      ]
    },
    {
      "cell_type": "code",
      "execution_count": 78,
      "metadata": {
        "colab": {
          "base_uri": "https://localhost:8080/"
        },
        "id": "VgZut3FOc4mK",
        "outputId": "54f421d4-4a7a-42c7-a821-869996946109"
      },
      "outputs": [
        {
          "output_type": "stream",
          "name": "stdout",
          "text": [
            "Que-5\n",
            "TO see better result i have taken identity to multiply:\n",
            "Array A:\n",
            "[[1 1 1]\n",
            " [1 1 1]\n",
            " [1 1 1]]\n",
            "Array B:\n",
            "[[1 0 0]\n",
            " [0 1 0]\n",
            " [0 0 1]]\n",
            "Dot product:\n",
            "[[1 1 1]\n",
            " [1 1 1]\n",
            " [1 1 1]]\n"
          ]
        }
      ],
      "source": [
        "print(\"Que-5 Perform Matrix multiplication.\")\n",
        "print(\"TO see better result i have taken identity to multiply:\")\n",
        "mulA=np.array([[1,1,1],[1,1,1],[1,1,1]])\n",
        "mulB=np.array([[1,0,0],[0,1,0],[0,0,1]])\n",
        "print(\"Array A:\")\n",
        "print(mulA)\n",
        "print(\"Array B:\")\n",
        "print(mulB)\n",
        "res=np.dot(mulA,mulB)\n",
        "print(\"Dot product:\")\n",
        "print(res)"
      ]
    },
    {
      "cell_type": "code",
      "execution_count": 79,
      "metadata": {
        "colab": {
          "base_uri": "https://localhost:8080/"
        },
        "id": "bKF05VOgc4mM",
        "outputId": "1d27d693-a9b6-4ce7-d621-11521c91d0a4"
      },
      "outputs": [
        {
          "output_type": "stream",
          "name": "stdout",
          "text": [
            "Que-6\n",
            "TO see better result i have taken identity to multiply:\n",
            "Array A:\n",
            "[[1 1 1]\n",
            " [1 1 1]\n",
            " [1 1 1]]\n",
            "Array B:\n",
            "[[1 0 0]\n",
            " [0 1 0]\n",
            " [0 0 1]]\n",
            "Multiplication by elements:\n",
            "[[1 0 0]\n",
            " [0 1 0]\n",
            " [0 0 1]]\n"
          ]
        }
      ],
      "source": [
        "print(\"Que-6 Perform element wise matrix multiplication.\")\n",
        "print(\"TO see better result i have taken identity to multiply:\")\n",
        "mulA=np.array([[1,1,1],[1,1,1],[1,1,1]])\n",
        "mulB=np.array([[1,0,0],[0,1,0],[0,0,1]])\n",
        "print(\"Array A:\")\n",
        "print(mulA)\n",
        "print(\"Array B:\")\n",
        "print(mulB)\n",
        "res=np.multiply(mulA, mulB)\n",
        "print(\"Multiplication by elements:\")\n",
        "print(res)\n"
      ]
    },
    {
      "cell_type": "code",
      "execution_count": 80,
      "metadata": {
        "colab": {
          "base_uri": "https://localhost:8080/"
        },
        "id": "sP_0EPedgAeo",
        "outputId": "bdbe4723-d683-4055-8bcd-3e4578573da0"
      },
      "outputs": [
        {
          "output_type": "stream",
          "name": "stdout",
          "text": [
            "Que-7 Find mean, median of the numpy array created.\n",
            "[1, 2, 3, 4, 5]\n",
            "3.0\n",
            "3.0\n"
          ]
        }
      ],
      "source": [
        "print(\"Que-7 Find mean, median of the numpy array created.\")\n",
        "print(alist);\n",
        "print(np.mean(alist));\n",
        "print(np.median(alist));"
      ]
    },
    {
      "cell_type": "code",
      "execution_count": 81,
      "metadata": {
        "colab": {
          "base_uri": "https://localhost:8080/"
        },
        "id": "JbkwgARN3tjR",
        "outputId": "56a12a36-2c1c-401d-9f0e-997554d2e838"
      },
      "outputs": [
        {
          "output_type": "stream",
          "name": "stdout",
          "text": [
            "Que-8 Obtain each row in the second column of the first array.\n",
            "[[6 7 8 9]\n",
            " [6 7 8 9]\n",
            " [6 7 8 9]\n",
            " [6 7 8 9]]\n",
            "[7 7 7 7]\n"
          ]
        }
      ],
      "source": [
        "print(\"Que-8 Obtain each row in the second column of the first array.\")\n",
        "print(npmatrix);\n",
        "print(npmatrix[:, 1])"
      ]
    },
    {
      "cell_type": "code",
      "execution_count": 82,
      "metadata": {
        "colab": {
          "base_uri": "https://localhost:8080/"
        },
        "id": "Ap3osg1e5lYx",
        "outputId": "548adde0-1d8f-4306-baf7-7cd93635d47b"
      },
      "outputs": [
        {
          "output_type": "stream",
          "name": "stdout",
          "text": [
            "Que-9 Convert Numeric entries(columns) of Iris.csv to Mean Centered Ver\n",
            "Original matrix\n",
            "     SepalLengthCm  SepalWidthCm  PetalLengthCm  PetalWidthCm\n",
            "0              5.1           3.5            1.4           0.2\n",
            "1              4.9           3.0            1.4           0.2\n",
            "2              4.7           3.2            1.3           0.2\n",
            "3              4.6           3.1            1.5           0.2\n",
            "4              5.0           3.6            1.4           0.2\n",
            "..             ...           ...            ...           ...\n",
            "145            6.7           3.0            5.2           2.3\n",
            "146            6.3           2.5            5.0           1.9\n",
            "147            6.5           3.0            5.2           2.0\n",
            "148            6.2           3.4            5.4           2.3\n",
            "149            5.9           3.0            5.1           1.8\n",
            "\n",
            "[150 rows x 4 columns]\n",
            "Centered by columns matrix\n",
            "     SepalLengthCm  SepalWidthCm  PetalLengthCm  PetalWidthCm\n",
            "0        -0.743333         0.446      -2.358667     -0.998667\n",
            "1        -0.943333        -0.054      -2.358667     -0.998667\n",
            "2        -1.143333         0.146      -2.458667     -0.998667\n",
            "3        -1.243333         0.046      -2.258667     -0.998667\n",
            "4        -0.843333         0.546      -2.358667     -0.998667\n",
            "..             ...           ...            ...           ...\n",
            "145       0.856667        -0.054       1.441333      1.101333\n",
            "146       0.456667        -0.554       1.241333      0.701333\n",
            "147       0.656667        -0.054       1.441333      0.801333\n",
            "148       0.356667         0.346       1.641333      1.101333\n",
            "149       0.056667        -0.054       1.341333      0.601333\n",
            "\n",
            "[150 rows x 4 columns]\n",
            "New mean by column\n",
            "SepalLengthCm   -1.125026e-15\n",
            "SepalWidthCm    -6.750156e-16\n",
            "PetalLengthCm   -3.238891e-15\n",
            "PetalWidthCm    -6.069219e-16\n",
            "dtype: float64\n"
          ]
        }
      ],
      "source": [
        "print(\"Que-9 Convert Numeric entries(columns) of Iris.csv to Mean Centered Ver\")\n",
        "#we can use pandas\n",
        "import pandas as pd\n",
        "data= pd.read_csv(\"/content/Iris.csv - Iris.csv.csv\")\n",
        "# arr=np.array(data)\n",
        "data.drop('Id',axis='columns', inplace=True)\n",
        "arr=data._get_numeric_data()\n",
        "nparrayCentered = arr - np.mean(arr, axis=0) # Remove the mean for each column\n",
        "print('Original matrix')\n",
        "print(arr)\n",
        "print('Centered by columns matrix')\n",
        "print(nparrayCentered)\n",
        "print('New mean by column')\n",
        "print(nparrayCentered.mean(axis=0))"
      ]
    },
    {
      "cell_type": "code",
      "source": [
        "print(\"Que-10 Study about numpy array attributes and implement it on the first matrix\")\n",
        "print(\"First array\")\n",
        "print(narray)\n",
        "print(\"First attribute Shape:\")\n",
        "print (narray.shape)\n",
        "\n"
      ],
      "metadata": {
        "colab": {
          "base_uri": "https://localhost:8080/"
        },
        "id": "4OP6qw27ZUpM",
        "outputId": "8d43c066-a615-4361-fded-67181af12230"
      },
      "execution_count": 83,
      "outputs": [
        {
          "output_type": "stream",
          "name": "stdout",
          "text": [
            "Que-10 Study about numpy array attributes and implement it on the first matrix\n",
            "First array\n",
            "[6 7 8 9]\n",
            "First attribute Shape:\n",
            "(4,)\n"
          ]
        }
      ]
    },
    {
      "cell_type": "code",
      "source": [
        "print(\"resize Shape:\")\n",
        "narray.shape=(2,2)\n",
        "print(narray)"
      ],
      "metadata": {
        "colab": {
          "base_uri": "https://localhost:8080/"
        },
        "id": "Pg2JQhrSytyE",
        "outputId": "8a3c7af8-08c4-43d6-901e-106ca905d44b"
      },
      "execution_count": 84,
      "outputs": [
        {
          "output_type": "stream",
          "name": "stdout",
          "text": [
            "resize Shape:\n",
            "[[6 7]\n",
            " [8 9]]\n"
          ]
        }
      ]
    },
    {
      "cell_type": "code",
      "source": [
        "n=np.arange(12)\n",
        "print (\"Dimention of array\",n.ndim)\n",
        "print (\"Array:\",n)\n",
        "b = n.reshape(3,4)\n",
        "print(\"Size of array\",b.size)\n",
        "print (\"Resize Array:\")\n",
        "print (b)\n",
        "print(\"Datatype:\",b.dtype)\n",
        "print(\"ItemSize:\",b.itemsize)\n",
        "print (b.flags)"
      ],
      "metadata": {
        "colab": {
          "base_uri": "https://localhost:8080/"
        },
        "id": "ySP2hMsXyz3q",
        "outputId": "73e8ee37-05ed-4d1e-e514-d38f9bb1e56b"
      },
      "execution_count": 104,
      "outputs": [
        {
          "output_type": "stream",
          "name": "stdout",
          "text": [
            "Dimention of array 1\n",
            "Array: [ 0  1  2  3  4  5  6  7  8  9 10 11]\n",
            "Size of array 12\n",
            "Resize Array:\n",
            "[[ 0  1  2  3]\n",
            " [ 4  5  6  7]\n",
            " [ 8  9 10 11]]\n",
            "Datatype: int64\n",
            "ItemSize: 8\n",
            "  C_CONTIGUOUS : True\n",
            "  F_CONTIGUOUS : False\n",
            "  OWNDATA : False\n",
            "  WRITEABLE : True\n",
            "  ALIGNED : True\n",
            "  WRITEBACKIFCOPY : False\n",
            "  UPDATEIFCOPY : False\n",
            "\n"
          ]
        }
      ]
    }
  ],
  "metadata": {
    "colab": {
      "name": "LAB1_1_20.ipynb",
      "provenance": []
    },
    "kernelspec": {
      "display_name": "Python 3 (system-wide)",
      "language": "python",
      "name": "python3"
    },
    "language_info": {
      "codemirror_mode": {
        "name": "ipython",
        "version": 3
      },
      "file_extension": ".py",
      "mimetype": "text/x-python",
      "name": "python",
      "nbconvert_exporter": "python",
      "pygments_lexer": "ipython3",
      "version": "3.8.10"
    }
  },
  "nbformat": 4,
  "nbformat_minor": 0
}