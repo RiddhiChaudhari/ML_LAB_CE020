{
  "nbformat": 4,
  "nbformat_minor": 0,
  "metadata": {
    "colab": {
      "name": "Lab7_2_20.ipynb",
      "provenance": []
    },
    "kernelspec": {
      "name": "python3",
      "display_name": "Python 3"
    },
    "language_info": {
      "name": "python"
    }
  },
  "cells": [
    {
      "cell_type": "code",
      "execution_count": 1,
      "metadata": {
        "id": "LLFEFsLoCKUM"
      },
      "outputs": [],
      "source": [
        "\n",
        "from __future__ import absolute_import, division, print_function\n",
        "import matplotlib.pyplot as plt\n",
        "%matplotlib inline\n",
        "import tensorflow as tf\n",
        "\n",
        "import numpy as np \n",
        "import pandas as pd \n",
        "import io\n",
        "import matplotlib.pyplot as plt"
      ]
    },
    {
      "cell_type": "code",
      "source": [
        "from tensorflow.keras.datasets import mnist\n",
        "\n",
        "(x_train, y_train), (x_test, y_test) = mnist.load_data()\n",
        "\n",
        "# Convert to float32.\n",
        "x_train = np.array(x_train, np.float32)\n",
        "x_test = np.array(x_test, np.float32)\n",
        "\n",
        "\n",
        "# Flatten images to 1-D vector of 784 features (28*28).\n",
        "num_features=784\n",
        "x_train = x_train.reshape(60000, num_features)\n",
        "x_test = x_test.reshape(10000, num_features)\n",
        "\n",
        "\n",
        "# Normalize images value from [0, 255] to [0, 1].\n",
        "x_train = x_train / 255\n",
        "x_test = x_test /255\n",
        "\n",
        "x_train"
      ],
      "metadata": {
        "colab": {
          "base_uri": "https://localhost:8080/"
        },
        "id": "QCBLI6q6DJK0",
        "outputId": "25743e09-32b8-4f4c-a022-1175f330df9f"
      },
      "execution_count": 2,
      "outputs": [
        {
          "output_type": "stream",
          "name": "stdout",
          "text": [
            "Downloading data from https://storage.googleapis.com/tensorflow/tf-keras-datasets/mnist.npz\n",
            "11493376/11490434 [==============================] - 0s 0us/step\n",
            "11501568/11490434 [==============================] - 0s 0us/step\n"
          ]
        },
        {
          "output_type": "execute_result",
          "data": {
            "text/plain": [
              "array([[0., 0., 0., ..., 0., 0., 0.],\n",
              "       [0., 0., 0., ..., 0., 0., 0.],\n",
              "       [0., 0., 0., ..., 0., 0., 0.],\n",
              "       ...,\n",
              "       [0., 0., 0., ..., 0., 0., 0.],\n",
              "       [0., 0., 0., ..., 0., 0., 0.],\n",
              "       [0., 0., 0., ..., 0., 0., 0.]], dtype=float32)"
            ]
          },
          "metadata": {},
          "execution_count": 2
        }
      ]
    },
    {
      "cell_type": "code",
      "source": [
        "# MNIST dataset parameters.\n",
        "\n",
        "num_classes = 10 # 0 to 9 digits\n",
        "\n",
        "num_features = 784 # 28*28\n",
        "\n",
        "# Training parameters.\n",
        "\n",
        "learning_rate = 0.01\n",
        "\n",
        "training_steps = 1000\n",
        "\n",
        "batch_size = 256\n",
        "\n",
        "display_step = 50"
      ],
      "metadata": {
        "id": "le_VR6g_DXew"
      },
      "execution_count": 3,
      "outputs": []
    },
    {
      "cell_type": "code",
      "source": [
        "# Use tf.data API to shuffle and batch data.\n",
        "num_batches = int(x_train.shape[0] / batch_size)\n",
        "train_data = tf.data.Dataset.from_tensor_slices((x_train, y_train))\n",
        "train_data = train_data.repeat().shuffle(5000).batch(batch_size).prefetch(1)"
      ],
      "metadata": {
        "id": "BMEFAUclDfOI"
      },
      "execution_count": 4,
      "outputs": []
    },
    {
      "cell_type": "code",
      "source": [
        "# Weight of shape [784, 10], the 28*28 image features, and a total number of classes.\n",
        "\n",
        "W = tf.Variable(np.random.randn(784, 10).astype(np.float32))\n",
        "\n",
        "# Bias of shape [10], the total number of classes.\n",
        "B = tf.Variable(np.random.randn(10).astype(np.float32))"
      ],
      "metadata": {
        "id": "rx64Q0VLDkB6"
      },
      "execution_count": 5,
      "outputs": []
    },
    {
      "cell_type": "code",
      "source": [
        "# Logistic regression (Wx + b).\n",
        "\n",
        "def logistic_regression(x):\n",
        "\n",
        "    # Apply softmax to normalize the logits to a probability distribution.\n",
        "    return tf.nn.softmax(tf.add(tf.matmul(x, W), B))\n",
        "    \n",
        "\n",
        "# Cross-Entropy loss function.\n",
        "\n",
        "def cross_entropy(y_pred, y_true):\n",
        "\n",
        "    # Encode label to a one hot vector.\n",
        "    y_true = tf.one_hot(y_true, depth = num_classes)\n",
        "    \n",
        "\n",
        "    # Clip prediction values to avoid log(0) error.\n",
        "\n",
        "    y_pred = tf.clip_by_value(y_pred, 1e-9, 1.)    \n",
        "\n",
        "    # Compute cross-entropy.\n",
        "    loss = tf.reduce_mean(-tf.reduce_sum(y_true * tf.math.log(y_pred)))\n",
        "    return loss"
      ],
      "metadata": {
        "id": "PLhpD8C1Dr1d"
      },
      "execution_count": 6,
      "outputs": []
    },
    {
      "cell_type": "code",
      "source": [
        "# Accuracy metric.\n",
        "\n",
        "def accuracy(y_pred, y_true):\n",
        "\n",
        "  # Predicted class is the index of the highest score in prediction vector (i.e. argmax).\n",
        "\n",
        "  correct_prediction = tf.equal(tf.argmax(y_pred, 1), tf.cast(y_true, tf.int64))\n",
        "  return tf.reduce_mean(tf.cast(correct_prediction, tf.float32))"
      ],
      "metadata": {
        "id": "ZYJiHrVrD7WE"
      },
      "execution_count": 7,
      "outputs": []
    },
    {
      "cell_type": "code",
      "source": [
        "# Optimization process. \n",
        "\n",
        "optimizer = tf.optimizers.SGD(learning_rate)\n",
        "\n",
        "def run_optimization(x, y):\n",
        "\n",
        "# Wrap computation inside a GradientTape for automatic differentiation.\n",
        "\n",
        "    with tf.GradientTape() as g:\n",
        "        pred = logistic_regression(x)\n",
        "        loss = cross_entropy(pred, y)\n",
        "\n",
        "    # Compute gradients.\n",
        "\n",
        "    gradients = g.gradient(loss, [W, B])\n",
        "    # Stochastic gradient descent optimizer.\n",
        "    # Update W and b following gradients.\n",
        "\n",
        "    optimizer.apply_gradients(zip(gradients, [W, B]))"
      ],
      "metadata": {
        "id": "5OsEyOLREDc1"
      },
      "execution_count": 8,
      "outputs": []
    },
    {
      "cell_type": "code",
      "source": [
        "# Run training for the given number of steps.\n",
        "\n",
        "for step, (batch_x, batch_y) in enumerate(train_data.take(training_steps), 1):\n",
        "\n",
        "    # Run the optimization to update W and b values.\n",
        "\n",
        "    run_optimization(batch_x, batch_y)\n",
        "    if step % display_step == 0:\n",
        "\n",
        "        #Obtain Predictions\n",
        "        pred = logistic_regression(batch_x)\n",
        "        #Ccompute loss\n",
        "        loss = cross_entropy(pred, batch_y)\n",
        "        #Compute Accuracy\n",
        "        acc = accuracy(pred, batch_y)\n",
        "        #print accuracy\n",
        "        print(f\"step: {step}, loss: {loss}, accuracy: {acc}\")"
      ],
      "metadata": {
        "colab": {
          "base_uri": "https://localhost:8080/"
        },
        "id": "_8YagQj_EMkU",
        "outputId": "409cfcd7-c972-4fd9-a5a5-6dae8b623beb"
      },
      "execution_count": 9,
      "outputs": [
        {
          "output_type": "stream",
          "name": "stdout",
          "text": [
            "step: 50, loss: 253.17721557617188, accuracy: 0.79296875\n",
            "step: 100, loss: 122.048828125, accuracy: 0.87890625\n",
            "step: 150, loss: 154.62632751464844, accuracy: 0.859375\n",
            "step: 200, loss: 131.65127563476562, accuracy: 0.890625\n",
            "step: 250, loss: 121.8077163696289, accuracy: 0.890625\n",
            "step: 300, loss: 98.25920104980469, accuracy: 0.90625\n",
            "step: 350, loss: 137.15138244628906, accuracy: 0.87109375\n",
            "step: 400, loss: 167.89285278320312, accuracy: 0.8671875\n",
            "step: 450, loss: 131.41168212890625, accuracy: 0.91015625\n",
            "step: 500, loss: 101.60590362548828, accuracy: 0.91015625\n",
            "step: 550, loss: 78.60670471191406, accuracy: 0.921875\n",
            "step: 600, loss: 115.30946350097656, accuracy: 0.921875\n",
            "step: 650, loss: 125.86680603027344, accuracy: 0.90234375\n",
            "step: 700, loss: 44.41551971435547, accuracy: 0.9609375\n",
            "step: 750, loss: 55.03582000732422, accuracy: 0.9375\n",
            "step: 800, loss: 82.98632049560547, accuracy: 0.90234375\n",
            "step: 850, loss: 121.97239685058594, accuracy: 0.88671875\n",
            "step: 900, loss: 109.90484619140625, accuracy: 0.88671875\n",
            "step: 950, loss: 59.461326599121094, accuracy: 0.9375\n",
            "step: 1000, loss: 80.36772155761719, accuracy: 0.8984375\n"
          ]
        }
      ]
    },
    {
      "cell_type": "code",
      "source": [
        "# Test model on validation set.\n",
        "pred = logistic_regression(x_test)\n",
        "a = accuracy(pred, y_test)\n",
        "print(f\"Test Accuracy: {a}\")"
      ],
      "metadata": {
        "colab": {
          "base_uri": "https://localhost:8080/"
        },
        "id": "8tApJVWUERqU",
        "outputId": "552bc2d2-cee2-499c-e756-f3aff6f707ee"
      },
      "execution_count": 10,
      "outputs": [
        {
          "output_type": "stream",
          "name": "stdout",
          "text": [
            "Test Accuracy: 0.9021999835968018\n"
          ]
        }
      ]
    }
  ]
}